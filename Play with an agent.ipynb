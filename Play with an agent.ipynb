{
 "cells": [
  {
   "cell_type": "code",
   "execution_count": 2,
   "id": "51851339",
   "metadata": {},
   "outputs": [],
   "source": [
    "from agents.random_agent import RandomAgent\n",
    "from connect_four_env.interactive_game import play_with_robot\n",
    "from connect_four_env.connect_four_env import ConnectFourGymEnv"
   ]
  },
  {
   "cell_type": "code",
   "execution_count": 3,
   "id": "9b63de59",
   "metadata": {},
   "outputs": [],
   "source": [
    "env = ConnectFourGymEnv()\n",
    "agent = RandomAgent(1, env.board.shape)"
   ]
  },
  {
   "cell_type": "code",
   "execution_count": 4,
   "id": "62d80741",
   "metadata": {},
   "outputs": [
    {
     "name": "stdout",
     "output_type": "stream",
     "text": [
      "Human player won!\n"
     ]
    }
   ],
   "source": [
    "play_with_robot(env, \"first\", agent)"
   ]
  }
 ],
 "metadata": {
  "interpreter": {
   "hash": "31a864a10a3ca05f3f0578644ed175721c6fedc868510c246df75e0ee10a679d"
  },
  "kernelspec": {
   "display_name": "Python 3.9.9 64-bit ('connect-four-rl')",
   "language": "python",
   "name": "python399jvsc74a57bd031a864a10a3ca05f3f0578644ed175721c6fedc868510c246df75e0ee10a679d"
  },
  "language_info": {
   "codemirror_mode": {
    "name": "ipython",
    "version": 3
   },
   "file_extension": ".py",
   "mimetype": "text/x-python",
   "name": "python",
   "nbconvert_exporter": "python",
   "pygments_lexer": "ipython3",
   "version": "3.9.9"
  },
  "toc": {
   "base_numbering": 1,
   "nav_menu": {},
   "number_sections": true,
   "sideBar": true,
   "skip_h1_title": false,
   "title_cell": "Table of Contents",
   "title_sidebar": "Contents",
   "toc_cell": false,
   "toc_position": {},
   "toc_section_display": true,
   "toc_window_display": false
  }
 },
 "nbformat": 4,
 "nbformat_minor": 5
}
