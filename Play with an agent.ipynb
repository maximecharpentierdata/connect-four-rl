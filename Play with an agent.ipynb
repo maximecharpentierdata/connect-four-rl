{
 "cells": [
  {
   "cell_type": "code",
   "execution_count": null,
   "id": "51851339",
   "metadata": {},
   "outputs": [],
   "source": [
    "from connect_four_env.interactive_game import play_with_robot\n",
    "from connect_four_env.connect_four_env import ConnectFourGymEnv\n",
    "from agents.deep_v_agent import DeepVAgent"
   ]
  },
  {
   "cell_type": "code",
   "execution_count": null,
   "id": "9b63de59",
   "metadata": {},
   "outputs": [],
   "source": [
    "env = ConnectFourGymEnv()\n",
    "agent = DeepVAgent()\n",
    "agent.load(\"models/best_agent/agent.pt\")"
   ]
  },
  {
   "cell_type": "code",
   "execution_count": null,
   "id": "62d80741",
   "metadata": {},
   "outputs": [],
   "source": [
    "play_with_robot(env, \"first\", agent)"
   ]
  }
 ],
 "metadata": {
  "interpreter": {
   "hash": "b21028fa5cd3e2446bca7c5413f510df48407828bdc232bfb038ec27a07f51cb"
  },
  "kernelspec": {
   "display_name": "Python 3 (ipykernel)",
   "language": "python",
   "name": "python3"
  },
  "language_info": {
   "codemirror_mode": {
    "name": "ipython",
    "version": 3
   },
   "file_extension": ".py",
   "mimetype": "text/x-python",
   "name": "python",
   "nbconvert_exporter": "python",
   "pygments_lexer": "ipython3",
   "version": "3.8.10"
  },
  "toc": {
   "base_numbering": 1,
   "nav_menu": {},
   "number_sections": true,
   "sideBar": true,
   "skip_h1_title": false,
   "title_cell": "Table of Contents",
   "title_sidebar": "Contents",
   "toc_cell": false,
   "toc_position": {},
   "toc_section_display": true,
   "toc_window_display": false
  }
 },
 "nbformat": 4,
 "nbformat_minor": 5
}
