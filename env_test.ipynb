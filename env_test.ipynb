{
 "cells": [
  {
   "cell_type": "code",
   "execution_count": 1,
   "metadata": {},
   "outputs": [],
   "source": [
    "from connect_four_env.connect_four_env import ConnectFourGymEnv"
   ]
  },
  {
   "cell_type": "code",
   "execution_count": 3,
   "metadata": {},
   "outputs": [
    {
     "data": {
      "application/vnd.jupyter.widget-view+json": {
       "model_id": "6f22d75d6afe447f82f3a4d4caf8e09b",
       "version_major": 2,
       "version_minor": 0
      },
      "text/plain": [
       "interactive(children=(IntSlider(value=0, description='turn', max=35), Output()), _dom_classes=('widget-interac…"
      ]
     },
     "metadata": {},
     "output_type": "display_data"
    }
   ],
   "source": [
    "env = ConnectFourGymEnv()\n",
    "\n",
    "done = False\n",
    "while not done:\n",
    "    action = env.action_space.sample()\n",
    "    valid = False\n",
    "    while not valid:\n",
    "        try:\n",
    "            env._get_fall_row(action[0])\n",
    "            env._get_fall_row(action[1])\n",
    "            valid = True\n",
    "        except:\n",
    "            action = env.action_space.sample()\n",
    "    state, reward, done, info = env.step(action, True)\n",
    "env.render_history()"
   ]
  }
 ],
 "metadata": {
  "interpreter": {
   "hash": "b21028fa5cd3e2446bca7c5413f510df48407828bdc232bfb038ec27a07f51cb"
  },
  "kernelspec": {
   "display_name": "Python 3.8.10 64-bit ('3.8.10')",
   "language": "python",
   "name": "python3"
  },
  "language_info": {
   "codemirror_mode": {
    "name": "ipython",
    "version": 3
   },
   "file_extension": ".py",
   "mimetype": "text/x-python",
   "name": "python",
   "nbconvert_exporter": "python",
   "pygments_lexer": "ipython3",
   "version": "3.8.10"
  },
  "orig_nbformat": 4
 },
 "nbformat": 4,
 "nbformat_minor": 2
}
