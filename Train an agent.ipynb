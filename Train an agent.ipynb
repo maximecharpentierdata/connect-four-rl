{
 "cells": [
  {
   "cell_type": "markdown",
   "metadata": {},
   "source": [
    "# Training agents"
   ]
  },
  {
   "cell_type": "code",
   "execution_count": null,
   "metadata": {},
   "outputs": [],
   "source": [
    "%load_ext autoreload\n",
    "%autoreload 2"
   ]
  },
  {
   "cell_type": "code",
   "execution_count": null,
   "metadata": {},
   "outputs": [],
   "source": [
    "from game.episode import run_episode\n",
    "from connect_four_env.connect_four_env import ConnectFourGymEnv\n",
    "from agents.deep_v_agent import DeepVAgent\n",
    "from connect_four_env.rendering import render_history\n",
    "import constants\n",
    "import pandas as pd\n",
    "\n",
    "env = ConnectFourGymEnv()"
   ]
  },
  {
   "cell_type": "markdown",
   "metadata": {},
   "source": [
    "## Train against self\n",
    "\n",
    "In this section we train an agent as player 1 and player 2 alternatively.\n",
    "\n",
    "In the `model/test_agent` folder that will be created when running the next cell, you will find a .png image showing the progress of the agent."
   ]
  },
  {
   "cell_type": "code",
   "execution_count": null,
   "metadata": {},
   "outputs": [],
   "source": [
    "from game.training import train_against_self\n",
    "\n",
    "agent = DeepVAgent(10, constants.PLAYER1, .1, env.board.shape)\n",
    "\n",
    "win_rate, losses = train_against_self(\n",
    "    path_to_save=\"models/test_agent\",\n",
    "    agent=agent, \n",
    "    n_episodes=1000, \n",
    "    discount=1.0, \n",
    "    num_opponents=3,\n",
    "    n_test_runs=30, \n",
    "    interval_test=200,\n",
    "    num_workers=1\n",
    ")"
   ]
  },
  {
   "cell_type": "markdown",
   "metadata": {},
   "source": [
    "Check a match of an agent against itself, and show the values it computes for each state it can reach."
   ]
  },
  {
   "cell_type": "code",
   "execution_count": null,
   "metadata": {},
   "outputs": [],
   "source": [
    "from copy import deepcopy\n",
    "values, winner = run_episode(agent, deepcopy(agent), env, keep_history=True, for_evaluation=False, get_values=True)\n",
    "render_history(env.history, agent_values=values)"
   ]
  }
 ],
 "metadata": {
  "interpreter": {
   "hash": "b21028fa5cd3e2446bca7c5413f510df48407828bdc232bfb038ec27a07f51cb"
  },
  "kernelspec": {
   "display_name": "Python 3.8.10 64-bit ('3.8.10')",
   "language": "python",
   "name": "python3"
  },
  "language_info": {
   "codemirror_mode": {
    "name": "ipython",
    "version": 3
   },
   "file_extension": ".py",
   "mimetype": "text/x-python",
   "name": "python",
   "nbconvert_exporter": "python",
   "pygments_lexer": "ipython3",
   "version": "3.8.10"
  },
  "orig_nbformat": 4
 },
 "nbformat": 4,
 "nbformat_minor": 2
}
